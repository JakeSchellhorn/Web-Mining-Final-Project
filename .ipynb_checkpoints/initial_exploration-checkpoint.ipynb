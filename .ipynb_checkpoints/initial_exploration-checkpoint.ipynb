{
 "cells": [
  {
   "cell_type": "code",
   "execution_count": 2,
   "id": "7db22b38-ec5a-4a2c-9127-205b7fc40879",
   "metadata": {},
   "outputs": [],
   "source": [
    "import statsapi\n",
    "#text formatted\n",
    "pace_data22 = statsapi.game_pace(season = 2022)\n",
    "#dictionary formatted\n",
    "pace_dict22 = statsapi.game_pace_data(season = 2022)\n",
    "\n",
    "pace_data23 = statsapi.game_pace(season = 2023)\n",
    "\n",
    "pace_dict23 = statsapi.game_pace_data(season = 2023)\n"
   ]
  },
  {
   "cell_type": "code",
   "execution_count": 20,
   "id": "5838b832-a50f-43a8-911a-ce431530fbb5",
   "metadata": {
    "scrolled": true
   },
   "outputs": [
    {
     "name": "stdout",
     "output_type": "stream",
     "text": [
      "03:06:38\n"
     ]
    }
   ],
   "source": [
    "print(pace_dict22['sports'][0]['timePerGame'])"
   ]
  },
  {
   "cell_type": "code",
   "execution_count": 5,
   "id": "63bc83ba-8bfa-48ab-a368-f78679806b5f",
   "metadata": {
    "scrolled": true
   },
   "outputs": [
    {
     "name": "stdout",
     "output_type": "stream",
     "text": [
      "2023 Game Pace Stats\n",
      "hitsPer9Inn: 17.06\n",
      "runsPer9Inn: 9.37\n",
      "pitchesPer9Inn: 299.93\n",
      "plateAppearancesPer9Inn: 76.91\n",
      "hitsPerGame: 16.81\n",
      "runsPerGame: 9.23\n",
      "inningsPlayedPerGame: 8.89\n",
      "pitchesPerGame: 295.45\n",
      "pitchersPerGame: 8.49\n",
      "plateAppearancesPerGame: 75.76\n",
      "totalGameTime: 6571:10:59\n",
      "totalInningsPlayed: 21602.5\n",
      "totalHits: 40839\n",
      "totalRuns: 22432\n",
      "totalPlateAppearances: 184104\n",
      "totalPitchers: 20634\n",
      "totalPitches: 717945\n",
      "totalGames: 2430\n",
      "total7InnGames: 2\n",
      "total9InnGames: 2227\n",
      "totalExtraInnGames: 201\n",
      "timePerGame: 02:42:15\n",
      "timePerPitch: 00:00:32\n",
      "timePerHit: 00:09:39\n",
      "timePerRun: 00:17:34\n",
      "timePerPlateAppearance: 00:02:08\n",
      "timePer9Inn: 02:44:42\n",
      "timePer77PlateAppearances: 02:44:54\n",
      "totalExtraInnTime: 634:03:00\n",
      "timePer7InnGameWithoutExtraInn: 00:00:00\n",
      "total9InnGamesCompletedEarly: 3\n",
      "total9InnGamesWithoutExtraInn: 2226\n",
      "total9InnGamesScheduled: 2430\n",
      "hitsPerRun: 1.821\n",
      "pitchesPerPitcher: 34.794\n",
      "total7InnGames: 2\n",
      "total9InnGames: 2227\n",
      "totalExtraInnGames: 201\n",
      "timePer7InnGame: 01:33:00\n",
      "timePer9InnGame: 02:39:52\n",
      "timePerExtraInnGame: 03:09:16\n",
      "\n"
     ]
    }
   ],
   "source": [
    "print(pace_data23)"
   ]
  },
  {
   "cell_type": "code",
   "execution_count": 6,
   "id": "31e3f170-f052-4190-b07c-0f4ae967dbda",
   "metadata": {},
   "outputs": [],
   "source": [
    "boxscore = statsapi.boxscore(gamePk = 662679)\n",
    "boxscore_data = statsapi.boxscore_data(gamePk = 662679)"
   ]
  },
  {
   "cell_type": "code",
   "execution_count": 7,
   "id": "a02c21dc-9906-40a9-a1f1-5477e3b01651",
   "metadata": {
    "scrolled": true
   },
   "outputs": [
    {
     "name": "stdout",
     "output_type": "stream",
     "text": [
      "------------------------------------------------------------------------------- | -------------------------------------------------------------------------------\n",
      "Blue Jays Batters                        AB   R   H  RBI BB   K  LOB AVG   OPS  | Royals Batters                           AB   R   H  RBI BB   K  LOB AVG   OPS \n",
      "------------------------------------------------------------------------------- | -------------------------------------------------------------------------------\n",
      "1 Springer  CF                            5   0   2   0   0   0   2  .271 .852  | 1 Merrifield  RF                          5   0   2   1   0   1   2  .221 .575 \n",
      "2 Bichette  SS                            5   0   2   0   0   1   2  .262 .750  | 2 Benintendi  LF                          3   2   0   0   2   2   4  .315 .787 \n",
      "3 Guerrero Jr.  DH                        5   0   0   1   0   1   5  .243 .800  | 3 Witt Jr.  SS                            4   2   2   0   1   0   1  .221 .686 \n",
      "4 Espinal  2B                             5   0   1   0   0   1   4  .290 .797  | 4 Perez, S  DH                            5   1   2   1   0   2   4  .202 .645 \n",
      "5 Tapia, R  RF                            4   1   1   1   0   1   2  .242 .604  | 5 Melendez  C                             5   1   1   2   0   1   4  .255 .759 \n",
      "6 Gurriel Jr.  LF                         4   0   1   0   0   1   0  .253 .663  | 6 Santana  1B                             4   1   4   1   1   0   0  .188 .611 \n",
      "7 Chapman, M  3B                          3   0   1   0   1   1   0  .222 .693  | 7 Rivera, E  3B                           5   0   1   2   0   3   4  .212 .662 \n",
      "8 Collins  C                              4   2   2   1   0   1   3  .212 .743  | 8 Taylor, M  CF                           2   1   1   1   1   0   1  .259 .721 \n",
      "9 Biggio  1B                              4   1   2   0   0   0   3  .184 .589  | 9 Lopez, N  2B                            2   0   0   0   1   0   4  .217 .551 \n",
      "------------------------------------------------------------------------------- | -------------------------------------------------------------------------------\n",
      "Totals                                   39   4  12   3   1   7  21             | Totals                                   35   8  13   8   6   9  24            \n",
      "------------------------------------------------------------------------------- | -------------------------------------------------------------------------------\n",
      "                                                                                |                                                                                \n",
      "BATTING                                                                         | BATTING                                                                        \n",
      "2B: Collins (4, Barlow, S).                                                     | 2B: Melendez (5, Kikuchi); Taylor, M (3, Richards, T); Santana 2 (7, Cimber,   \n",
      "HR: Tapia, R (2, 2nd inning off Singer, 0 on, 1 out); Collins (4, 3rd inning    |     García, Y); Merrifield (12, Merryweather).                                 \n",
      "    off Singer, 0 on, 0 out).                                                   | 3B: Perez, S (1, Cimber).                                                      \n",
      "TB: Bichette 2; Biggio 2; Chapman, M; Collins 6; Espinal; Gurriel Jr.; Springer | TB: Melendez 2; Merrifield 3; Perez, S 4; Rivera, E; Santana 6; Taylor, M 2;   \n",
      "    2; Tapia, R 4.                                                              |     Witt Jr. 2.                                                                \n",
      "RBI: Collins (10); Guerrero Jr. (31); Tapia, R (15).                            | RBI: Melendez 2 (11); Merrifield (25); Perez, S (23); Rivera, E 2 (14); Santana\n",
      "Runners left in scoring position, 2 out: Espinal 3; Biggio 2; Tapia, R.         |     (11); Taylor, M (13).                                                      \n",
      "Team RISP: 1-for-10.                                                            | 2-out RBI: Melendez; Santana; Rivera, E 2.                                     \n",
      "Team LOB: 9.                                                                    | Runners left in scoring position, 2 out: Witt Jr.; Melendez; Benintendi; Lopez,\n",
      "                                                                                |     N 2; Rivera, E 2.                                                          \n",
      "FIELDING                                                                        | SAC: Lopez, N.                                                                 \n",
      "E: Tapia, R (3, fielding).                                                      | Team RISP: 5-for-17.                                                           \n",
      "                                                                                | Team LOB: 11.                                                                  \n",
      "                                                                                |                                                                                \n",
      "                                                                                | FIELDING                                                                       \n",
      "                                                                                | E: Witt Jr. (6, throw).                                                        \n",
      "                                                                                | PB: Melendez (3).                                                              \n",
      "------------------------------------------------------------------------------- | -------------------------------------------------------------------------------\n",
      "------------------------------------------------------------------------------- | -------------------------------------------------------------------------------\n",
      "Blue Jays Pitchers                           IP   H   R  ER  BB   K  HR   ERA   | Royals Pitchers                              IP   H   R  ER  BB   K  HR   ERA  \n",
      "------------------------------------------------------------------------------- | -------------------------------------------------------------------------------\n",
      "Kikuchi                                     0.2   2   3   3   4   2   0   4.44  | Singer  (W, 3-1)                            5.0   8   3   3   0   5   2   4.33 \n",
      "Thornton                                    2.1   3   0   0   0   3   0   3.05  | Coleman  (H, 2)                             1.0   0   0   0   1   0   0   3.57 \n",
      "Richards, T  (L, 2-1)                       1.1   4   3   3   1   1   0   5.68  | Cuas                                        1.0   1   0   0   0   0   0   0.00 \n",
      "Gage                                        0.2   0   0   0   1   0   0   0.00  | Staumont                                    1.0   0   0   0   0   2   0   3.32 \n",
      "Cimber                                      1.0   2   1   1   0   1   0   2.55  | Barlow, S                                   1.0   3   1   1   0   0   0   1.88 \n",
      "Merryweather                                1.0   1   1   1   0   1   0   6.11  |                                                                                \n",
      "Vasquez, A                                  0.2   0   0   0   0   0   0   8.10  |                                                                                \n",
      "García, Y                                   0.1   1   0   0   0   1   0   2.82  |                                                                                \n",
      "------------------------------------------------------------------------------- | -------------------------------------------------------------------------------\n",
      "Totals                                      8.0  13   8   8   6   9   0         | Totals                                      9.0  12   4   4   1   7   2        \n",
      "------------------------------------------------------------------------------- | -------------------------------------------------------------------------------\n",
      "HBP: Taylor, M (by Merryweather).                                                                                                                                \n",
      "Pitches-strikes: Kikuchi 45-24; Thornton 23-19; Richards, T 36-22; Gage 14-7; Cimber 25-14; Merryweather 17-11; Vasquez, A 5-4; García, Y 14-10; Singer 98-63;   \n",
      "    Coleman 15-6; Cuas 14-9; Staumont 17-10; Barlow, S 27-21.                                                                                                    \n",
      "Groundouts-flyouts: Kikuchi 0-0; Thornton 2-1; Richards, T 2-0; Gage 0-1; Cimber 2-0; Merryweather 1-1; Vasquez, A 1-1; García, Y 0-0; Singer 3-4; Coleman 1-1;  \n",
      "    Cuas 1-2; Staumont 0-1; Barlow, S 2-0.                                                                                                                       \n",
      "Batters faced: Kikuchi 8; Thornton 10; Richards, T 8; Gage 3; Cimber 5; Merryweather 5; Vasquez, A 2; García, Y 2; Singer 23; Coleman 4; Cuas 4; Staumont 3;     \n",
      "    Barlow, S 6.                                                                                                                                                 \n",
      "Inherited runners-scored: Thornton 3-0; Gage 1-0.                                                                                                                \n",
      "Umpires: HP: Sean Barber. 1B: David Rackley. 2B: Larry Vanover. 3B: Junior Valentine.                                                                            \n",
      "Weather: 76 degrees, Partly Cloudy.                                                                                                                              \n",
      "Wind: 13 mph, L To R.                                                                                                                                            \n",
      "First pitch: 1:11 PM.                                                                                                                                            \n",
      "T: 3:26.                                                                                                                                                         \n",
      "Att: 12,196.                                                                                                                                                     \n",
      "Venue: Kauffman Stadium.                                                                                                                                         \n",
      "June 8, 2022                                                                                                                                                     \n",
      "-----------------------------------------------------------------------------------------------------------------------------------------------------------------\n",
      "\n"
     ]
    }
   ],
   "source": [
    "print(boxscore)"
   ]
  },
  {
   "cell_type": "markdown",
   "id": "2ecd808d-45f4-4887-9a2c-ce53da10d85d",
   "metadata": {},
   "source": [
    "### Grabing the Kansas City Royals to then lookup their roster"
   ]
  },
  {
   "cell_type": "code",
   "execution_count": 8,
   "id": "4a7a42ee-a822-4ae2-ad49-69d721b17cfa",
   "metadata": {},
   "outputs": [],
   "source": [
    "royals = statsapi.lookup_team('KC')\n",
    "roster = statsapi.roster(royals[0]['id'])"
   ]
  },
  {
   "cell_type": "markdown",
   "id": "36d3d8b1-bd6a-4b1d-bc81-be22d08d7c42",
   "metadata": {},
   "source": [
    "This is alright but need to do some manipulation to get their id's"
   ]
  },
  {
   "cell_type": "code",
   "execution_count": 9,
   "id": "5a659a84-5ccb-4e34-875e-506840d61cc6",
   "metadata": {
    "scrolled": true
   },
   "outputs": [
    {
     "name": "stdout",
     "output_type": "stream",
     "text": [
      "#26  2B  Adam Frazier\n",
      "#48  P   Alec Marsh\n",
      "#61  P   Angel Zerpa\n",
      "#7   SS  Bobby Witt Jr.\n",
      "#51  P   Brady Singer\n",
      "#35  P   Chris Stratton\n",
      "#55  P   Cole Ragans\n",
      "#44  LF  Dairon Blanco\n",
      "#34  C   Freddy Fermin\n",
      "#2   CF  Garrett Hampson\n",
      "#16  RF  Hunter Renfroe\n",
      "#66  P   James McArthur\n",
      "#46  P   John Schreiber\n",
      "#24  P   Jordan Lyles\n",
      "#28  CF  Kyle Isbel\n",
      "#1   LF  MJ Melendez\n",
      "#11  3B  Maikel Garcia\n",
      "#65  P   Matt Sauer\n",
      "#52  P   Michael Wacha\n",
      "#17  RF  Nelson Velázquez\n",
      "#63  P   Nick Anderson\n",
      "#12  3B  Nick Loftin\n",
      "#13  C   Salvador Perez\n",
      "#67  P   Seth Lugo\n",
      "#9   1B  Vinnie Pasquantino\n",
      "#31  P   Will Smith\n",
      "\n"
     ]
    }
   ],
   "source": [
    "print(roster)"
   ]
  },
  {
   "cell_type": "markdown",
   "id": "6961b3d2-7b48-4882-a2af-0e2a518972ac",
   "metadata": {},
   "source": [
    "### Time to create a list of roster names\n",
    "First I split the roster and use it to append just the player name using slicing\n",
    "After that I map join to the list to create a nicer version and remove the empty string at the end of the list"
   ]
  },
  {
   "cell_type": "code",
   "execution_count": 29,
   "id": "13227036-0d85-4161-af82-33d5092ac7c0",
   "metadata": {},
   "outputs": [
    {
     "name": "stdout",
     "output_type": "stream",
     "text": [
      "['Adam Frazier', ' Alec Marsh', ' Angel Zerpa', 'Bobby Witt Jr.', ' Brady Singer', ' Chris Stratton', ' Cole Ragans', 'Dairon Blanco', ' Freddy Fermin', 'Garrett Hampson', 'Hunter Renfroe', ' James McArthur', ' John Schreiber', ' Jordan Lyles', 'Kyle Isbel', 'MJ Melendez', 'Maikel Garcia', ' Matt Sauer', ' Michael Wacha', 'Nelson Velázquez', ' Nick Anderson', 'Nick Loftin', ' Salvador Perez', ' Seth Lugo', 'Vinnie Pasquantino', ' Will Smith']\n"
     ]
    }
   ],
   "source": [
    "roster_split = roster.split(\"\\n\")\n",
    "roster_names = []\n",
    "for i in roster_split:\n",
    "    roster_names.append(i.split('  ')[2::3])\n",
    "roster_names = list(map(''.join, roster_names))\n",
    "roster_names.remove('')\n",
    "\n",
    "print(roster_names)"
   ]
  },
  {
   "cell_type": "markdown",
   "id": "25d0e264-d2fe-407e-8d5f-df2462adc870",
   "metadata": {},
   "source": [
    "### Now to create a dictionary of names and id's\n",
    "First I create my dictionary to store key value pairs\n",
    "I iterate through the roster_names then iterate the names through the lookup_player function to get a dictionary of stats\n",
    "I grab the player's fullName as the key and store the player id as the value"
   ]
  },
  {
   "cell_type": "code",
   "execution_count": 32,
   "id": "b99ff2ef-e40d-413c-ab64-61926f2e7db3",
   "metadata": {},
   "outputs": [],
   "source": [
    "playerdict = {}\n",
    "for name in roster_names:\n",
    "    for player in statsapi.lookup_player(name.strip()):\n",
    "        playerdict[player['fullName']] = player['id']"
   ]
  },
  {
   "cell_type": "markdown",
   "id": "37755494-3a26-464d-8a2c-d05d31af916a",
   "metadata": {},
   "source": [
    "#### As we can see I have created a nice data structure that will allow me to iterate through and grab specific players or all of them again. It also will be a simple copy and paste to be able to do this for mulitple teams"
   ]
  },
  {
   "cell_type": "code",
   "execution_count": 31,
   "id": "234de910-9f44-47a7-b248-2f05153041c4",
   "metadata": {},
   "outputs": [
    {
     "name": "stdout",
     "output_type": "stream",
     "text": [
      "{'Adam Frazier': 624428, 'Alec Marsh': 679525, 'Angel Zerpa': 672582, 'Bobby Witt Jr.': 677951, 'Brady Singer': 663903, 'Chris Stratton': 608717, 'Cole Ragans': 666142, 'Dairon Blanco': 680118, 'Freddy Fermin': 666023, 'Garrett Hampson': 641658, 'Hunter Renfroe': 592669, 'James McArthur': 663704, 'John Schreiber': 670167, 'Jordan Lyles': 543475, 'Kyle Isbel': 664728, 'MJ Melendez': 669004, 'Maikel Garcia': 672580, 'Matt Sauer': 669422, 'Michael Wacha': 608379, 'Nelson Velázquez': 676369, 'Nick Anderson': 623433, 'Nick Loftin': 679845, 'Salvador Perez': 521692, 'Seth Lugo': 607625, 'Vinnie Pasquantino': 686469, 'Will Smith': 519293}\n"
     ]
    }
   ],
   "source": [
    "print(playerdict)"
   ]
  },
  {
   "cell_type": "code",
   "execution_count": null,
   "id": "6a675fdf-3cfc-47b3-b6ab-10b2d0f3b982",
   "metadata": {},
   "outputs": [],
   "source": []
  }
 ],
 "metadata": {
  "kernelspec": {
   "display_name": "Python 3 (ipykernel)",
   "language": "python",
   "name": "python3"
  },
  "language_info": {
   "codemirror_mode": {
    "name": "ipython",
    "version": 3
   },
   "file_extension": ".py",
   "mimetype": "text/x-python",
   "name": "python",
   "nbconvert_exporter": "python",
   "pygments_lexer": "ipython3",
   "version": "3.12.0"
  }
 },
 "nbformat": 4,
 "nbformat_minor": 5
}
